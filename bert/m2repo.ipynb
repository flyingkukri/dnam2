{
 "cells": [
  {
   "cell_type": "code",
   "execution_count": 2,
   "metadata": {},
   "outputs": [],
   "source": [
    "import os\n",
    "os.getcwd()\n",
    "os.chdir('monarch/dnam2/bert')"
   ]
  },
  {
   "cell_type": "code",
   "execution_count": 9,
   "metadata": {},
   "outputs": [],
   "source": [
    "from composer.models import HuggingFaceModel\n",
    "\n",
    "model, tokenizer = HuggingFaceModel.hf_from_composer_checkpoint(\n",
    "    f'local-bert-checkpoints/monarch-mixer-pretrain-786dim-80m-parameters/latest-rank0.pt',\n",
    "    model_instantiation_class='transformers.BertForMaskedLM',\n",
    ")\n"
   ]
  },
  {
   "cell_type": "code",
   "execution_count": 18,
   "metadata": {},
   "outputs": [
    {
     "data": {
      "text/plain": [
       "{'CrossEntropy': CrossEntropy(), 'MulticlassAccuracy': MulticlassAccuracy()}"
      ]
     },
     "execution_count": 18,
     "metadata": {},
     "output_type": "execute_result"
    }
   ],
   "source": [
    "from torchmetrics.classification import MulticlassAccuracy\n",
    "from composer.metrics import CrossEntropy\n",
    "metrics = [CrossEntropy(), MulticlassAccuracy(num_classes=4, average='micro')]\n",
    "composer_model = HuggingFaceModel(model, tokenizer=tokenizer, metrics=metrics, use_logits=True)\n",
    "\n",
    "composer_model.train_metrics"
   ]
  },
  {
   "cell_type": "markdown",
   "metadata": {},
   "source": [
    "## This is for training the model"
   ]
  },
  {
   "cell_type": "code",
   "execution_count": null,
   "metadata": {},
   "outputs": [],
   "source": [
    "from omegaconf import OmegaConf as om\n",
    "from omegaconf import DictConfig\n",
    "from typing import cast\n",
    "from main import main \n",
    "\n",
    "yaml_path = \"yamls/pretrain/dna_monarch-mixer-pretrain-786dim-80m-parameters.yaml\"\n",
    "\n",
    "with open(yaml_path) as f:\n",
    "    cfg = om.load(f)\n",
    "cfg = cast(DictConfig, cfg)\n",
    "print(cfg.max_duration)\n",
    "trainer = main(cfg)"
   ]
  }
 ],
 "metadata": {
  "kernelspec": {
   "display_name": "Python [conda env:anaconda-m2-mixer]",
   "language": "python",
   "name": "conda-env-anaconda-m2-mixer-py"
  }
 },
 "nbformat": 4,
 "nbformat_minor": 2
}
