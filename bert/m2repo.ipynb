{
 "cells": [
  {
   "cell_type": "code",
   "execution_count": 6,
   "metadata": {},
   "outputs": [
    {
     "data": {
      "text/plain": [
       "'/home/lukas/git/dnam2/bert'"
      ]
     },
     "execution_count": 6,
     "metadata": {},
     "output_type": "execute_result"
    }
   ],
   "source": [
    "import os\n",
    "os.getcwd()"
   ]
  },
  {
   "cell_type": "markdown",
   "metadata": {},
   "source": [
    "## This is for training the model"
   ]
  },
  {
   "cell_type": "code",
   "execution_count": 2,
   "metadata": {
    "scrolled": true,
    "tags": []
   },
   "outputs": [
    {
     "name": "stdout",
     "output_type": "stream",
     "text": [
      "Could not import FlashFFTConv!\n",
      "20000ba\n",
      "Training using config: \n",
      "data_local: ./microset/\n",
      "data_remote: null\n",
      "max_seq_len: 512\n",
      "tokenizer_name: gagneurlab/SpeciesLM\n",
      "mlm_probability: 0.02\n",
      "run_name: mirco_dna_monarch-mixer-pretrain-786dim-80m-parameters2\n",
      "model:\n",
      "  name: bert\n",
      "  pretrained_model_name: bert-base-uncased\n",
      "  tokenizer_name: ${tokenizer_name}\n",
      "  model_config:\n",
      "    num_attention_heads: 12\n",
      "    num_hidden_layers: 12\n",
      "    attention_probs_dropout_prob: 0.0\n",
      "    max_position_embeddings: ${max_seq_len}\n",
      "    monarch_mixer_sequence_mixing: true\n",
      "    long_conv_l_max: ${max_seq_len}\n",
      "    long_conv_kernel_learning_rate: 0.001\n",
      "    hyena_lr_pos_emb: 1.0e-05\n",
      "    hyena_w: 10\n",
      "    hyena_wd: 0.1\n",
      "    hyena_emb_dim: 5\n",
      "    hyena_filter_order: 128\n",
      "    bidirectional: true\n",
      "    residual_long_conv: true\n",
      "    use_glu_mlp: true\n",
      "    use_monarch_mlp: true\n",
      "    monarch_mlp_nblocks: 4\n",
      "    use_positional_encodings: true\n",
      "train_loader:\n",
      "  name: dna\n",
      "  dataset:\n",
      "    local: ${data_local}\n",
      "    remote: null\n",
      "    split: train\n",
      "    tokenizer_name: ${tokenizer_name}\n",
      "    max_seq_len: ${max_seq_len}\n",
      "    shuffle: true\n",
      "    mlm_probability: ${mlm_probability}\n",
      "  drop_last: true\n",
      "  num_workers: 8\n",
      "eval_loader:\n",
      "  name: dna\n",
      "  dataset:\n",
      "    local: ${data_local}\n",
      "    remote: null\n",
      "    split: test\n",
      "    tokenizer_name: ${tokenizer_name}\n",
      "    max_seq_len: ${max_seq_len}\n",
      "    shuffle: false\n",
      "    mlm_probability: 0.15\n",
      "  drop_last: false\n",
      "  num_workers: 8\n",
      "scheduler:\n",
      "  name: linear_decay_with_warmup\n",
      "  t_warmup: 0.0005dur\n",
      "  alpha_f: 0.02\n",
      "precision: fp32\n",
      "optimizer:\n",
      "  name: decoupled_adamw\n",
      "  lr: 1.25e-05\n",
      "  betas:\n",
      "  - 0.999951172\n",
      "  - 0.999990234\n",
      "  eps: 1.0e-06\n",
      "  weight_decay: 1.0e-05\n",
      "algorithms:\n",
      "  gradient_clipping:\n",
      "    clipping_type: norm\n",
      "    clipping_threshold: 1.0\n",
      "max_duration: 20000ba\n",
      "eval_interval: 2000ba\n",
      "global_train_batch_size: 1\n",
      "seed: 17\n",
      "device_eval_batch_size: 128\n",
      "device_train_microbatch_size: 16\n",
      "progress_bar: false\n",
      "log_to_console: true\n",
      "console_log_interval: 1ba\n",
      "callbacks:\n",
      "  speed_monitor:\n",
      "    window_size: 500\n",
      "  lr_monitor: {}\n",
      "save_interval: 7000ba\n",
      "save_num_checkpoints_to_keep: 10\n",
      "save_folder: ./local-bert-checkpoints/${run_name}\n",
      "\n",
      "WARNING: device_train_microbatch_size > device_train_batch_size, will be reduced from 16 -> 1.\n",
      "Initializing model...\n",
      "Using Monarch Mixer for Sequence Mixing: True\n",
      "-- Bidirectional: True\n",
      "-- Using Long Conv Residual: True\n",
      "-- Hyena w: 10\n",
      "-- Hyena w mod: 1\n",
      "-- Hyena filter order: 128\n",
      "-- Hyena filter dropout: 0.2\n",
      "-- Hyena filter wd: 0.1\n",
      "-- Hyena filter emb dim: 5\n",
      "-- Hyena filter lr: 0.001\n",
      "-- Hyena filter lr pos emb: 1e-05\n",
      "n_params=8.0608e+07\n",
      "Building train loader...\n",
      "==Using the correct data collator\n",
      "Building eval loader...\n",
      "==Using the correct data collator\n"
     ]
    },
    {
     "name": "stderr",
     "output_type": "stream",
     "text": [
      "/opt/modules/i12g/anaconda/envs/m2-mixer/lib/python3.9/site-packages/composer/callbacks/speed_monitor.py:120: UserWarning: gpu_flop count not found for None with precision: fp32; MFU cannot be calculated and reported. gpu_flops_available can be manuallyoverridden by setting gpu_flops_available in SpeedMonitor.\n",
      "  warnings.warn(\n"
     ]
    },
    {
     "name": "stdout",
     "output_type": "stream",
     "text": [
      "Logging config...\n",
      "data_local: ./microset/\n",
      "data_remote: null\n",
      "max_seq_len: 512\n",
      "tokenizer_name: gagneurlab/SpeciesLM\n",
      "mlm_probability: 0.02\n",
      "run_name: mirco_dna_monarch-mixer-pretrain-786dim-80m-parameters2\n",
      "model:\n",
      "  name: bert\n",
      "  pretrained_model_name: bert-base-uncased\n",
      "  tokenizer_name: ${tokenizer_name}\n",
      "  model_config:\n",
      "    num_attention_heads: 12\n",
      "    num_hidden_layers: 12\n",
      "    attention_probs_dropout_prob: 0.0\n",
      "    max_position_embeddings: ${max_seq_len}\n",
      "    monarch_mixer_sequence_mixing: true\n",
      "    long_conv_l_max: ${max_seq_len}\n",
      "    long_conv_kernel_learning_rate: 0.001\n",
      "    hyena_lr_pos_emb: 1.0e-05\n",
      "    hyena_w: 10\n",
      "    hyena_wd: 0.1\n",
      "    hyena_emb_dim: 5\n",
      "    hyena_filter_order: 128\n",
      "    bidirectional: true\n",
      "    residual_long_conv: true\n",
      "    use_glu_mlp: true\n",
      "    use_monarch_mlp: true\n",
      "    monarch_mlp_nblocks: 4\n",
      "    use_positional_encodings: true\n",
      "train_loader:\n",
      "  name: dna\n",
      "  dataset:\n",
      "    local: ${data_local}\n",
      "    remote: null\n",
      "    split: train\n",
      "    tokenizer_name: ${tokenizer_name}\n",
      "    max_seq_len: ${max_seq_len}\n",
      "    shuffle: true\n",
      "    mlm_probability: ${mlm_probability}\n",
      "  drop_last: true\n",
      "  num_workers: 8\n",
      "eval_loader:\n",
      "  name: dna\n",
      "  dataset:\n",
      "    local: ${data_local}\n",
      "    remote: null\n",
      "    split: test\n",
      "    tokenizer_name: ${tokenizer_name}\n",
      "    max_seq_len: ${max_seq_len}\n",
      "    shuffle: false\n",
      "    mlm_probability: 0.15\n",
      "  drop_last: false\n",
      "  num_workers: 8\n",
      "scheduler:\n",
      "  name: linear_decay_with_warmup\n",
      "  t_warmup: 0.0005dur\n",
      "  alpha_f: 0.02\n",
      "precision: fp32\n",
      "optimizer:\n",
      "  name: decoupled_adamw\n",
      "  lr: 1.25e-05\n",
      "  betas:\n",
      "  - 0.999951172\n",
      "  - 0.999990234\n",
      "  eps: 1.0e-06\n",
      "  weight_decay: 1.0e-05\n",
      "algorithms:\n",
      "  gradient_clipping:\n",
      "    clipping_type: norm\n",
      "    clipping_threshold: 1.0\n",
      "max_duration: 20000ba\n",
      "eval_interval: 2000ba\n",
      "global_train_batch_size: 1\n",
      "seed: 17\n",
      "device_eval_batch_size: 128\n",
      "device_train_microbatch_size: 1\n",
      "progress_bar: false\n",
      "log_to_console: true\n",
      "console_log_interval: 1ba\n",
      "callbacks:\n",
      "  speed_monitor:\n",
      "    window_size: 500\n",
      "  lr_monitor: {}\n",
      "save_interval: 7000ba\n",
      "save_num_checkpoints_to_keep: 10\n",
      "save_folder: ./local-bert-checkpoints/${run_name}\n",
      "n_gpus: 1\n",
      "device_train_batch_size: 1\n",
      "\n"
     ]
    }
   ],
   "source": [
    "from omegaconf import OmegaConf as om\n",
    "from omegaconf import DictConfig\n",
    "from typing import cast\n",
    "from main import main\n",
    "\n",
    "yaml_path = \"yamls/pretrain/micro_dna_monarch-mixer-pretrain-786dim-80m-parameters.yaml\"\n",
    "\n",
    "with open(yaml_path) as f:\n",
    "    cfg = om.load(f)\n",
    "cfg = cast(DictConfig, cfg)\n",
    "print(cfg.max_duration)\n",
    "#main(cfg)\n",
    "trainer, model = main(cfg, True, False)"
   ]
  },
  {
   "cell_type": "code",
   "execution_count": 16,
   "metadata": {
    "tags": []
   },
   "outputs": [
    {
     "name": "stdout",
     "output_type": "stream",
     "text": [
      "==Using the correct data collator\n"
     ]
    },
    {
     "name": "stderr",
     "output_type": "stream",
     "text": [
      "You're using a BertTokenizerFast tokenizer. Please note that with a fast tokenizer, using the `__call__` method is faster than using a method to encode the text followed by a call to the `pad` method to get a padded encoding.\n"
     ]
    },
    {
     "data": {
      "text/plain": [
       "torch.Size([1, 300, 30528])"
      ]
     },
     "execution_count": 16,
     "metadata": {},
     "output_type": "execute_result"
    }
   ],
   "source": [
    "from dna_data import build_dna_dataloader\n",
    "import numpy as np\n",
    "import torch\n",
    "loaderCfg = cfg.train_loader\n",
    "dataloader = build_dna_dataloader(loaderCfg, 1)\n",
    "\n",
    "sample = next(iter(dataloader))\n",
    "sample = {key: value.to('cuda:0') for key, value in sample.items()}\n",
    "outputs = model(sample)\n",
    "outputs.logits.shape"
   ]
  },
  {
   "cell_type": "code",
   "execution_count": 90,
   "metadata": {
    "tags": []
   },
   "outputs": [
    {
     "data": {
      "image/png": "[encoded data removed]",
      "text/plain": [
       "<Figure size 800x600 with 1 Axes>"
      ]
     },
     "metadata": {},
     "output_type": "display_data"
    }
   ],
   "source": [
    "import matplotlib.pyplot as plt\n",
    "def vis_logits(index, outputs):\n",
    "    logits = outputs.logits[:,index,:2048].cpu().detach().numpy()[0]\n",
    "    actual_label = sample['labels'][0][index].cpu().detach().numpy()\n",
    "\n",
    "    # Plot the logits\n",
    "    plt.figure(figsize=(8, 6))\n",
    "    plt.plot(range(len(logits)), logits, label='Logits', color='blue')\n",
    "    #plt.bar(range(len(logits)), logits)\n",
    "    # Mark the actual label\n",
    "    plt.scatter(actual_label, logits[actual_label], color='red', label='Actual Label', s=100)\n",
    "\n",
    "    # Add labels and title\n",
    "    plt.xlabel('Sample Index')\n",
    "    plt.ylabel('Logits')\n",
    "    plt.grid(True)\n",
    "    plt.legend()\n",
    "\n",
    "    # Show the plot\n",
    "    plt.show()\n",
    "\n",
    "vis_logits(242, outputs)"
   ]
  },
  {
   "cell_type": "code",
   "execution_count": 88,
   "metadata": {
    "tags": []
   },
   "outputs": [
    {
     "name": "stdout",
     "output_type": "stream",
     "text": [
      "tensor([243], device='cuda:0')\n"
     ]
    },
    {
     "data": {
      "text/plain": [
       "tensor([[-100, -100, -100, -100, -100, -100, -100, -100, -100, -100, -100, -100,\n",
       "         -100, -100, -100, -100, -100, -100, -100, -100, -100, -100, -100, -100,\n",
       "         1130,  411, 1630, 2412, 1442, 1658, -100, -100, -100, -100, -100, -100,\n",
       "         -100, -100, -100, -100, -100, -100, -100, -100, -100, -100, -100, -100,\n",
       "         -100, -100, -100, -100, -100, -100, -100, -100, -100, -100, -100, -100,\n",
       "         -100, 3851, 3102,  107,  414, 1642, 2458, -100, -100, -100, -100, -100,\n",
       "         -100, -100, -100, -100, -100, -100, -100, -100, -100, -100, -100, -100,\n",
       "         -100, -100, -100, -100, -100, -100, -100, -100, -100, -100, -100, -100,\n",
       "         -100, -100, -100, -100, -100, 1498, 1882, 3418, 1371, 1374, 1388, -100,\n",
       "         -100, -100, -100, -100, -100, -100, -100, -100, -100, -100, -100, -100,\n",
       "         -100, -100, -100, -100, -100, -100, -100, -100, 2057,   21,   69,  261,\n",
       "         1030,   10, -100, -100, -100, -100, -100, -100, -100, -100, -100, -100,\n",
       "         -100, -100, -100, -100, -100, -100, -100, -100, -100, -100, -100, -100,\n",
       "         -100, -100, -100, -100, -100, -100, -100, -100, -100, -100, -100, -100,\n",
       "         -100, -100, -100, -100, -100, -100, -100, -100, -100, -100, -100, -100,\n",
       "         -100, -100, -100, -100, -100, -100, -100, -100, -100, -100, -100, -100,\n",
       "         -100, -100, -100, -100, -100, -100, -100, -100, -100, -100, -100, -100,\n",
       "         -100, -100, -100, -100, -100, -100, -100, -100, -100, -100, -100, -100,\n",
       "         -100, -100, -100, -100, -100, -100, -100, -100, -100, -100, -100, -100,\n",
       "         -100, -100, -100, -100, -100, -100, -100, -100, -100, -100, -100, -100,\n",
       "          580, 2306, 1019, 4062, 3946, 3482, -100, -100, -100, -100, -100, -100,\n",
       "         -100, -100, -100, -100, -100, -100, -100, -100, -100, 1097,  280, 1105,\n",
       "          309, 1223,  784, -100, -100, -100, -100, -100, -100, -100, -100, -100,\n",
       "         -100, -100, -100, -100, -100, -100, -100, -100, -100, -100, -100, -100,\n",
       "         -100, -100, -100, -100, -100, -100, -100, -100, -100, -100, -100, -100]],\n",
       "       device='cuda:0')"
      ]
     },
     "execution_count": 88,
     "metadata": {},
     "output_type": "execute_result"
    }
   ],
   "source": [
    "\n",
    "print(get_pos_of_vale(4062))\n",
    "sample['labels']"
   ]
  }
 ],
 "metadata": {
  "kernelspec": {
   "display_name": "Python [conda env:anaconda-m2-mixer]",
   "language": "python",
   "name": "conda-env-anaconda-m2-mixer-py"
  },
  "language_info": {
   "codemirror_mode": {
    "name": "ipython",
    "version": 3
   },
   "file_extension": ".py",
   "mimetype": "text/x-python",
   "name": "python",
   "nbconvert_exporter": "python",
   "pygments_lexer": "ipython3",
   "version": "3.9.18"
  }
 },
 "nbformat": 4,
 "nbformat_minor": 4
}
