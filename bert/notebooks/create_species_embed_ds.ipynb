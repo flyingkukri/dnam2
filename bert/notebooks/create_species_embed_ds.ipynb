{
 "cells": [
  {
   "cell_type": "code",
   "execution_count": 23,
   "metadata": {},
   "outputs": [
    {
     "data": {
      "text/plain": [
       "[4100]"
      ]
     },
     "execution_count": 23,
     "metadata": {},
     "output_type": "execute_result"
    }
   ],
   "source": [
    "tokenizer.convert_tokens_to_ids([\"GGGGGG\"])"
   ]
  },
  {
   "cell_type": "code",
   "execution_count": 1,
   "metadata": {},
   "outputs": [],
   "source": [
    "from datasets import load_from_disk, Dataset\n",
    "from transformers import AutoTokenizer\n",
    "import pandas as pd"
   ]
  },
  {
   "cell_type": "code",
   "execution_count": 5,
   "metadata": {},
   "outputs": [],
   "source": [
    "dataset_path = \"/s/project/semi_supervised_multispecies/all_fungi_reference/fungi/Annotation/Sequences/AAA_Concatenated/pretokenized/downstream300\"\n",
    "dataset_path = \"/s/project/semi_supervised_multispecies/all_fungi_reference/fungi/Annotation/Sequences/AAA_Concatenated/pretokenized/speciesdownstream300\"\n",
    "#dataset_path = \"../batch_embed\"\n",
    "#dataset_path = \"../full_embed\"\n",
    "#dataset_path = \"../batch\"\n",
    "dataset = load_from_disk(dataset_path)"
   ]
  },
  {
   "cell_type": "code",
   "execution_count": 43,
   "metadata": {},
   "outputs": [],
   "source": [
    "dataset = dataset[\"train\"]"
   ]
  },
  {
   "cell_type": "code",
   "execution_count": 35,
   "metadata": {},
   "outputs": [
    {
     "data": {
      "text/plain": [
       "dict_keys(['species_name', '__index_level_0__', 'input_ids', 'token_type_ids', 'attention_mask'])"
      ]
     },
     "execution_count": 35,
     "metadata": {},
     "output_type": "execute_result"
    }
   ],
   "source": [
    "dataset[1].keys()"
   ]
  },
  {
   "cell_type": "code",
   "execution_count": 45,
   "metadata": {},
   "outputs": [
    {
     "data": {
      "application/vnd.jupyter.widget-view+json": {
       "model_id": "2fccd43dcb8249df80853f68fe3a7a0b",
       "version_major": 2,
       "version_minor": 0
      },
      "text/plain": [
       "Saving the dataset (0/1 shards):   0%|          | 0/16 [00:00<?, ? examples/s]"
      ]
     },
     "metadata": {},
     "output_type": "display_data"
    }
   ],
   "source": [
    "tokenizer = AutoTokenizer.from_pretrained(\"gagneurlab/SpeciesLM\", revision=\"downstream_species_lm\")\n",
    "start_species_ids = tokenizer.convert_tokens_to_ids([\"GGGGGG\"])[0]\n",
    "# add a species token column\n",
    "species_col = dataset[\"species_name\"]\n",
    "species_ids = tokenizer.convert_tokens_to_ids(species_col)\n",
    "species_ids = [species_id - start_species_ids for species_id in species_ids]\n",
    "# delete the species token in the input_ids\n",
    "for i, input_ids in enumerate(dataset[\"input_ids\"]):\n",
    "    del input_ids[1]\n",
    "    dataset[\"input_ids\"][i] = input_ids\n",
    "\n",
    "dataset = dataset.add_column(\"species_ids\", species_ids)\n",
    "\n",
    "dataset.save_to_disk(\"../batch_test\")"
   ]
  },
  {
   "cell_type": "code",
   "execution_count": 3,
   "metadata": {},
   "outputs": [
    {
     "data": {
      "text/plain": [
       "Dataset({\n",
       "    features: ['species_name', '__index_level_0__', 'input_ids', 'token_type_ids', 'attention_mask', 'species_id'],\n",
       "    num_rows: 11463375\n",
       "})"
      ]
     },
     "execution_count": 3,
     "metadata": {},
     "output_type": "execute_result"
    }
   ],
   "source": [
    "test_path = \"../fullds_speciesembed\"\n",
    "test_ds = load_from_disk(test_path)\n",
    "test_ds"
   ]
  },
  {
   "cell_type": "code",
   "execution_count": 13,
   "metadata": {},
   "outputs": [
    {
     "name": "stdout",
     "output_type": "stream",
     "text": [
      "species_name                                      aspergillus_clavatus\n",
      "__index_level_0__                                                    0\n",
      "input_ids            [2, 1855, 3312, 946, 3770, 2778, 2908, 3427, 1...\n",
      "token_type_ids       [0, 0, 0, 0, 0, 0, 0, 0, 0, 0, 0, 0, 0, 0, 0, ...\n",
      "attention_mask       [1, 1, 1, 1, 1, 1, 1, 1, 1, 1, 1, 1, 1, 1, 1, ...\n",
      "species_id                                                           1\n",
      "Name: 0, dtype: object\n"
     ]
    }
   ],
   "source": [
    "small_frame = pd.DataFrame(test_ds[:10])\n",
    "print(small_frame.iloc[0])"
   ]
  },
  {
   "cell_type": "code",
   "execution_count": 11,
   "metadata": {},
   "outputs": [
    {
     "data": {
      "application/vnd.jupyter.widget-view+json": {
       "model_id": "eebd609e79b248c08f42533b00c99f17",
       "version_major": 2,
       "version_minor": 0
      },
      "text/plain": [
       "Saving the dataset (0/43 shards):   0%|          | 0/11463375 [00:00<?, ? examples/s]"
      ]
     },
     "metadata": {},
     "output_type": "display_data"
    }
   ],
   "source": [
    "test_ds.save_to_disk(\"../fullds_speciesembed\")"
   ]
  },
  {
   "cell_type": "code",
   "execution_count": 7,
   "metadata": {},
   "outputs": [],
   "source": [
    "test_ds = test_ds.rename_column(\"species_ids\", \"species_id\")"
   ]
  },
  {
   "cell_type": "code",
   "execution_count": 9,
   "metadata": {},
   "outputs": [
    {
     "name": "stdout",
     "output_type": "stream",
     "text": [
      "species_name                                      aspergillus_clavatus\n",
      "__index_level_0__                                                    0\n",
      "input_ids            [2, 4101, 1855, 3312, 946, 3770, 2778, 2908, 3...\n",
      "token_type_ids       [0, 0, 0, 0, 0, 0, 0, 0, 0, 0, 0, 0, 0, 0, 0, ...\n",
      "attention_mask       [1, 1, 1, 1, 1, 1, 1, 1, 1, 1, 1, 1, 1, 1, 1, ...\n",
      "Name: 0, dtype: object\n",
      "species_name                                      aspergillus_clavatus\n",
      "__index_level_0__                                                    1\n",
      "input_ids            [2, 4101, 1814, 3145, 279, 1102, 299, 1182, 61...\n",
      "token_type_ids       [0, 0, 0, 0, 0, 0, 0, 0, 0, 0, 0, 0, 0, 0, 0, ...\n",
      "attention_mask       [1, 1, 1, 1, 1, 1, 1, 1, 1, 1, 1, 1, 1, 1, 1, ...\n",
      "Name: 1, dtype: object\n",
      "species_name                                      aspergillus_clavatus\n",
      "__index_level_0__                                                    2\n",
      "input_ids            [2, 4101, 1248, 881, 3512, 1746, 2876, 3298, 8...\n",
      "token_type_ids       [0, 0, 0, 0, 0, 0, 0, 0, 0, 0, 0, 0, 0, 0, 0, ...\n",
      "attention_mask       [1, 1, 1, 1, 1, 1, 1, 1, 1, 1, 1, 1, 1, 1, 1, ...\n",
      "Name: 2, dtype: object\n",
      "species_name                                      aspergillus_clavatus\n",
      "__index_level_0__                                                    3\n",
      "input_ids            [2, 4101, 1817, 3158, 329, 1303, 1103, 303, 11...\n",
      "token_type_ids       [0, 0, 0, 0, 0, 0, 0, 0, 0, 0, 0, 0, 0, 0, 0, ...\n",
      "attention_mask       [1, 1, 1, 1, 1, 1, 1, 1, 1, 1, 1, 1, 1, 1, 1, ...\n",
      "Name: 3, dtype: object\n",
      "species_name                                      aspergillus_clavatus\n",
      "__index_level_0__                                                    4\n",
      "input_ids            [2, 4101, 1228, 804, 3201, 502, 1996, 3874, 31...\n",
      "token_type_ids       [0, 0, 0, 0, 0, 0, 0, 0, 0, 0, 0, 0, 0, 0, 0, ...\n",
      "attention_mask       [1, 1, 1, 1, 1, 1, 1, 1, 1, 1, 1, 1, 1, 1, 1, ...\n",
      "Name: 4, dtype: object\n",
      "species_name                                      aspergillus_clavatus\n",
      "__index_level_0__                                                    5\n",
      "input_ids            [2, 4101, 1805, 3110, 140, 545, 2168, 465, 184...\n",
      "token_type_ids       [0, 0, 0, 0, 0, 0, 0, 0, 0, 0, 0, 0, 0, 0, 0, ...\n",
      "attention_mask       [1, 1, 1, 1, 1, 1, 1, 1, 1, 1, 1, 1, 1, 1, 1, ...\n",
      "Name: 5, dtype: object\n",
      "species_name                                      aspergillus_clavatus\n",
      "__index_level_0__                                                    6\n",
      "input_ids            [2, 4101, 1280, 1011, 4030, 3820, 2978, 3707, ...\n",
      "token_type_ids       [0, 0, 0, 0, 0, 0, 0, 0, 0, 0, 0, 0, 0, 0, 0, ...\n",
      "attention_mask       [1, 1, 1, 1, 1, 1, 1, 1, 1, 1, 1, 1, 1, 1, 1, ...\n",
      "Name: 6, dtype: object\n",
      "species_name                                      aspergillus_clavatus\n",
      "__index_level_0__                                                    7\n",
      "input_ids            [2, 4101, 1807, 3120, 177, 693, 2758, 2827, 31...\n",
      "token_type_ids       [0, 0, 0, 0, 0, 0, 0, 0, 0, 0, 0, 0, 0, 0, 0, ...\n",
      "attention_mask       [1, 1, 1, 1, 1, 1, 1, 1, 1, 1, 1, 1, 1, 1, 1, ...\n",
      "Name: 7, dtype: object\n",
      "species_name                                      aspergillus_clavatus\n",
      "__index_level_0__                                                    8\n",
      "input_ids            [2, 4101, 1847, 3279, 813, 3239, 653, 2598, 21...\n",
      "token_type_ids       [0, 0, 0, 0, 0, 0, 0, 0, 0, 0, 0, 0, 0, 0, 0, ...\n",
      "attention_mask       [1, 1, 1, 1, 1, 1, 1, 1, 1, 1, 1, 1, 1, 1, 1, ...\n",
      "Name: 8, dtype: object\n",
      "species_name                                      aspergillus_clavatus\n",
      "__index_level_0__                                                    9\n",
      "input_ids            [2, 4101, 1278, 1003, 3998, 3690, 2458, 1626, ...\n",
      "token_type_ids       [0, 0, 0, 0, 0, 0, 0, 0, 0, 0, 0, 0, 0, 0, 0, ...\n",
      "attention_mask       [1, 1, 1, 1, 1, 1, 1, 1, 1, 1, 1, 1, 1, 1, 1, ...\n",
      "Name: 9, dtype: object\n"
     ]
    },
    {
     "data": {
      "application/vnd.jupyter.widget-view+json": {
       "model_id": "6bd6d7c48e864e33bb6abf3814e78ef3",
       "version_major": 2,
       "version_minor": 0
      },
      "text/plain": [
       "Saving the dataset (0/1 shards):   0%|          | 0/10 [00:00<?, ? examples/s]"
      ]
     },
     "metadata": {},
     "output_type": "display_data"
    }
   ],
   "source": [
    "\n",
    "\n",
    "\n",
    "tokenizer = AutoTokenizer.from_pretrained(\"gagneurlab/SpeciesLM\", revision=\"downstream_species_lm\")\n",
    "\n",
    "# 5447 is the highest token id\n",
    "start_species_ids = tokenizer.convert_tokens_to_ids([\"GGGGGG\"])[0]\n",
    "\n",
    "def add_species_input(dataset):\n",
    "    # add species column\n",
    "    df = pd.DataFrame(dataset)\n",
    "    def gen_species_list(r):\n",
    "        print(r)\n",
    "        species = r[\"species_name\"]\n",
    "        species_id = tokenizer.convert_tokens_to_ids([species])[0]\n",
    "        species_id -= start_species_ids\n",
    "        num_rows = len(r[\"input_ids\"])\n",
    "        species_id = [species_id] * num_rows\n",
    "        return species_id\n",
    "\n",
    "\n",
    "    df[\"species_id\"] = df.apply(lambda r : gen_species_list(r), axis=1)\n",
    "    return Dataset.from_pandas(df)\n",
    "\n",
    "sliced = add_species_input(sliced)\n",
    "#dataset[\"train\"] = add_species_input(dataset[\"train\"])\n",
    "#dataset[\"test\"] = add_species_input(dataset[\"test\"])\n",
    "\n",
    "sliced.save_to_disk(\"../fullds_speciesembed\")"
   ]
  },
  {
   "cell_type": "code",
   "execution_count": 65,
   "metadata": {},
   "outputs": [
    {
     "data": {
      "text/plain": [
       "datasets.arrow_dataset.Dataset"
      ]
     },
     "execution_count": 65,
     "metadata": {},
     "output_type": "execute_result"
    }
   ],
   "source": [
    "type(dataset)"
   ]
  },
  {
   "cell_type": "code",
   "execution_count": null,
   "metadata": {},
   "outputs": [],
   "source": []
  }
 ],
 "metadata": {
  "kernelspec": {
   "display_name": "m2-mixer",
   "language": "python",
   "name": "m2-mixer"
  },
  "language_info": {
   "codemirror_mode": {
    "name": "ipython",
    "version": 3
   },
   "file_extension": ".py",
   "mimetype": "text/x-python",
   "name": "python",
   "nbconvert_exporter": "python",
   "pygments_lexer": "ipython3",
   "version": "3.9.18"
  }
 },
 "nbformat": 4,
 "nbformat_minor": 4
}
